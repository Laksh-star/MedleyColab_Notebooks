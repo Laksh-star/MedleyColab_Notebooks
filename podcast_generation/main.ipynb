# code
import requests
import os

# Step 1: Your Eleven Labs API Key
API_KEY = 'your_eleven_labs_api_key'  # Replace with your Eleven Labs API key

# Step 2: Eleven Labs TTS API endpoint
API_URL = "https://api.elevenlabs.io/v1/text-to-speech/"

# Function to generate speech using Eleven Labs
def generate_speech(text, voice_id, output_file):
    headers = {
        'xi-api-key': API_KEY,
        'Content-Type': 'application/json'
    }

    data = {
        "text": text,
        "voice_settings": {
            "stability": 0.5,  # Adjusts the stability of the voice
            "similarity_boost": 0.8  # Boosts similarity to the voice's natural tone
        }
    }

    # Make a request to the Eleven Labs API
    response = requests.post(API_URL + voice_id, headers=headers, json=data)

    # Check if the request was successful
    if response.status_code == 200:
        # Save the audio file
        with open(output_file, 'wb') as f:
            f.write(response.content)
        print(f"Audio saved as {output_file}")
    else:
        print(f"Failed to generate speech: {response.status_code} - {response.text}")

# Step 3: The complete podcast script, broken into Sarah and Dave's lines
podcast_script = [
    ("Sarah", "Welcome to the Leadership Legends podcast. I’m Sarah, and joining me is Dave."),
    ("Dave", "Hey Sarah! I’m excited about today’s discussion. We’re diving into leadership lessons from one of the most iconic characters in literature and film—Don Vito Corleone from The Godfather."),
    ("Sarah", "Absolutely. Whether you’ve read the book, seen the movie, or both, Don Corleone is a character who just commands respect. There’s so much we can learn from him about leadership and strategy, right?"),
    ("Dave", "For sure. I mean, the guy basically wrote the playbook on calm, calculated leadership. So, how about we start with lesson number one: Patience and Timing."),
    ("Sarah", "Yes, this is huge. In the book, there’s a moment where Don Corleone isn’t at all rattled by the rude actions of others. He’s got this incredible ability to stay cool, while his son Sonny, on the other hand, can’t hold back his anger."),
    ("Dave", "That’s classic Sonny! He reacts emotionally, but the Don—he knows better. He understands that real power comes from waiting for the right moment. No rush, no impulsive decisions. That’s where the long game comes in, and it’s something leaders can really learn from."),
    ("Sarah", "Exactly. It’s all about patience. Don Corleone’s approach teaches us that, in business or in life, acting too quickly often leads to missed opportunities. Keeping your cool can make all the difference."),
    ("Dave", "Oh yeah, that’s a powerful one. It’s a reminder that anyone can rise to the top if they stay patient and observant. Impulsive reactions? Those are for the weak. Great leaders—like the Don—know when to act and when to wait."),
    # Continue adding more lines from Sarah and Dave here...
]

# Step 4: Voice IDs for Sarah and Dave
sarah_voice_id = "EXAMPLE_SARAH_VOICE_ID"  # Replace with a female voice ID
dave_voice_id = "EXAMPLE_DAVE_VOICE_ID"  # Replace with a male voice ID

# Step 5: Generate audio for each line in the podcast script
def process_podcast_script(script):
    for i, (speaker, text) in enumerate(script):
        if speaker == "Sarah":
            voice_id = sarah_voice_id
            output_file = f"sarah_part_{i}.mp3"
        elif speaker == "Dave":
            voice_id = dave_voice_id
            output_file = f"dave_part_{i}.mp3"
        
        generate_speech(text, voice_id, output_file)

# Step 6: Process the entire podcast script
process_podcast_script(podcast_script)

# Optional Step: Merge all parts into one final audio file using pydub
from pydub import AudioSegment

def merge_audio_files(script):
    combined_audio = AudioSegment.empty()

    for i, (speaker, _) in enumerate(script):
        if speaker == "Sarah":
            audio_file = f"sarah_part_{i}.mp3"
        elif speaker == "Dave":
            audio_file = f"dave_part_{i}.mp3"
        
        audio_segment = AudioSegment.from_mp3(audio_file)
        combined_audio += audio_segment
    
    combined_audio.export("final_podcast.mp3", format="mp3")
    print("Podcast audio has been saved as 'final_podcast.mp3'")

# Merge the generated audio files
merge_audio_files(podcast_script)
